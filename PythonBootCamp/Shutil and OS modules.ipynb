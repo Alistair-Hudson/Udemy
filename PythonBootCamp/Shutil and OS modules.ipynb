{
 "cells": [
  {
   "cell_type": "code",
   "execution_count": 1,
   "metadata": {},
   "outputs": [
    {
     "data": {
      "text/plain": [
       "'C:\\\\Users\\\\Alistair\\\\Udemy\\\\PythonBootCamp'"
      ]
     },
     "execution_count": 1,
     "metadata": {},
     "output_type": "execute_result"
    }
   ],
   "source": [
    "pwd"
   ]
  },
  {
   "cell_type": "code",
   "execution_count": 3,
   "metadata": {},
   "outputs": [],
   "source": [
    "f = open(\"practice.txt\", \"w+\")\n",
    "f.write(\"This is a test string\")\n",
    "f.close()"
   ]
  },
  {
   "cell_type": "code",
   "execution_count": 4,
   "metadata": {},
   "outputs": [],
   "source": [
    "import os"
   ]
  },
  {
   "cell_type": "code",
   "execution_count": 5,
   "metadata": {},
   "outputs": [
    {
     "data": {
      "text/plain": [
       "'C:\\\\Users\\\\Alistair\\\\Udemy\\\\PythonBootCamp'"
      ]
     },
     "execution_count": 5,
     "metadata": {},
     "output_type": "execute_result"
    }
   ],
   "source": [
    "os.getcwd()"
   ]
  },
  {
   "cell_type": "code",
   "execution_count": 6,
   "metadata": {},
   "outputs": [
    {
     "data": {
      "text/plain": [
       "['.ipynb_checkpoints',\n",
       " '.vscode',\n",
       " '04-Milestone Project - 1',\n",
       " '08-Milestone Project - 2',\n",
       " 'cap.py',\n",
       " 'Decorators.ipynb',\n",
       " 'Exception Handling.ipynb',\n",
       " 'Generators.ipynb',\n",
       " 'IOs.ipynb',\n",
       " 'Module and Packages',\n",
       " 'myfile.txt',\n",
       " 'name and main',\n",
       " 'Numbers.ipynb',\n",
       " 'OOP.ipynb',\n",
       " 'practice.txt',\n",
       " 'Python Collections Modules.ipynb',\n",
       " 'PythonExample.py',\n",
       " 'PythonNotebookExample.ipynb',\n",
       " 'Shutil and OS modules.ipynb',\n",
       " 'simple1.py',\n",
       " 'tesetfile',\n",
       " 'test_cap.py',\n",
       " 'workspace.code-workspace',\n",
       " '__pycache__']"
      ]
     },
     "execution_count": 6,
     "metadata": {},
     "output_type": "execute_result"
    }
   ],
   "source": [
    "os.listdir()"
   ]
  },
  {
   "cell_type": "code",
   "execution_count": 7,
   "metadata": {},
   "outputs": [
    {
     "data": {
      "text/plain": [
       "['Alistair',\n",
       " 'All Users',\n",
       " 'Default',\n",
       " 'Default User',\n",
       " 'Default.migrated',\n",
       " 'DefaultAppPool',\n",
       " 'desktop.ini',\n",
       " 'Public']"
      ]
     },
     "execution_count": 7,
     "metadata": {},
     "output_type": "execute_result"
    }
   ],
   "source": [
    "os.listdir(\"C:\\\\Users\")"
   ]
  },
  {
   "cell_type": "code",
   "execution_count": 8,
   "metadata": {},
   "outputs": [],
   "source": [
    "import shutil"
   ]
  },
  {
   "cell_type": "code",
   "execution_count": 9,
   "metadata": {},
   "outputs": [
    {
     "data": {
      "text/plain": [
       "'C:\\\\Users\\\\Alistair\\\\practice.txt'"
      ]
     },
     "execution_count": 9,
     "metadata": {},
     "output_type": "execute_result"
    }
   ],
   "source": [
    "shutil.move(\"practice.txt\", \"C:\\\\Users\\\\Alistair\")"
   ]
  },
  {
   "cell_type": "markdown",
   "metadata": {},
   "source": [
    "os.unlik(path) to remove one file\n",
    "os.rmdir(path) to delete an empty folder\n",
    "os.rmtree(path) to delete everything in that folder\n",
    "\n",
    "use send2trash to avoid permenant removal\n"
   ]
  },
  {
   "cell_type": "code",
   "execution_count": 10,
   "metadata": {},
   "outputs": [],
   "source": [
    "import send2trash"
   ]
  },
  {
   "cell_type": "code",
   "execution_count": 12,
   "metadata": {},
   "outputs": [
    {
     "data": {
      "text/plain": [
       "'C:\\\\Users\\\\Alistair\\\\Udemy\\\\PythonBootCamp\\\\practice.txt'"
      ]
     },
     "execution_count": 12,
     "metadata": {},
     "output_type": "execute_result"
    }
   ],
   "source": [
    "shutil.move(\"C:\\\\Users\\\\Alistair\\\\practice.txt\", os.getcwd())"
   ]
  },
  {
   "cell_type": "code",
   "execution_count": 13,
   "metadata": {},
   "outputs": [],
   "source": [
    "send2trash.send2trash(\"practice.txt\")"
   ]
  },
  {
   "cell_type": "code",
   "execution_count": 14,
   "metadata": {},
   "outputs": [
    {
     "data": {
      "text/plain": [
       "['.ipynb_checkpoints',\n",
       " '.vscode',\n",
       " '04-Milestone Project - 1',\n",
       " '08-Milestone Project - 2',\n",
       " 'cap.py',\n",
       " 'Decorators.ipynb',\n",
       " 'Exception Handling.ipynb',\n",
       " 'Generators.ipynb',\n",
       " 'IOs.ipynb',\n",
       " 'Module and Packages',\n",
       " 'myfile.txt',\n",
       " 'name and main',\n",
       " 'Numbers.ipynb',\n",
       " 'OOP.ipynb',\n",
       " 'Python Collections Modules.ipynb',\n",
       " 'PythonExample.py',\n",
       " 'PythonNotebookExample.ipynb',\n",
       " 'Shutil and OS modules.ipynb',\n",
       " 'simple1.py',\n",
       " 'tesetfile',\n",
       " 'test_cap.py',\n",
       " 'workspace.code-workspace',\n",
       " '__pycache__']"
      ]
     },
     "execution_count": 14,
     "metadata": {},
     "output_type": "execute_result"
    }
   ],
   "source": [
    "os.listdir()"
   ]
  },
  {
   "cell_type": "code",
   "execution_count": null,
   "metadata": {},
   "outputs": [],
   "source": []
  },
  {
   "cell_type": "code",
   "execution_count": 17,
   "metadata": {},
   "outputs": [
    {
     "name": "stdout",
     "output_type": "stream",
     "text": [
      "Looking at C:\\Users\\Alistair\\Udemy\\PythonBootCamp\n",
      "\n",
      "\n",
      "the subfolders are: \n",
      "\t Subfolder: .ipynb_checkpoints\n",
      "\n",
      "\n",
      "the files are: \n",
      "\t file: cap.py\n",
      "\t file: Decorators.ipynb\n",
      "\t file: Exception Handling.ipynb\n",
      "\t file: Generators.ipynb\n",
      "\t file: IOs.ipynb\n",
      "\t file: myfile.txt\n",
      "\t file: Numbers.ipynb\n",
      "\t file: OOP.ipynb\n",
      "\t file: Python Collections Modules.ipynb\n",
      "\t file: PythonExample.py\n",
      "\t file: PythonNotebookExample.ipynb\n",
      "\t file: Shutil and OS modules.ipynb\n",
      "\t file: simple1.py\n",
      "\t file: tesetfile\n",
      "\t file: test_cap.py\n",
      "\t file: workspace.code-workspace\n",
      "\n",
      "\n",
      "\t Subfolder: .vscode\n",
      "\n",
      "\n",
      "the files are: \n",
      "\t file: cap.py\n",
      "\t file: Decorators.ipynb\n",
      "\t file: Exception Handling.ipynb\n",
      "\t file: Generators.ipynb\n",
      "\t file: IOs.ipynb\n",
      "\t file: myfile.txt\n",
      "\t file: Numbers.ipynb\n",
      "\t file: OOP.ipynb\n",
      "\t file: Python Collections Modules.ipynb\n",
      "\t file: PythonExample.py\n",
      "\t file: PythonNotebookExample.ipynb\n",
      "\t file: Shutil and OS modules.ipynb\n",
      "\t file: simple1.py\n",
      "\t file: tesetfile\n",
      "\t file: test_cap.py\n",
      "\t file: workspace.code-workspace\n",
      "\n",
      "\n",
      "\t Subfolder: 04-Milestone Project - 1\n",
      "\n",
      "\n",
      "the files are: \n",
      "\t file: cap.py\n",
      "\t file: Decorators.ipynb\n",
      "\t file: Exception Handling.ipynb\n",
      "\t file: Generators.ipynb\n",
      "\t file: IOs.ipynb\n",
      "\t file: myfile.txt\n",
      "\t file: Numbers.ipynb\n",
      "\t file: OOP.ipynb\n",
      "\t file: Python Collections Modules.ipynb\n",
      "\t file: PythonExample.py\n",
      "\t file: PythonNotebookExample.ipynb\n",
      "\t file: Shutil and OS modules.ipynb\n",
      "\t file: simple1.py\n",
      "\t file: tesetfile\n",
      "\t file: test_cap.py\n",
      "\t file: workspace.code-workspace\n",
      "\n",
      "\n",
      "\t Subfolder: 08-Milestone Project - 2\n",
      "\n",
      "\n",
      "the files are: \n",
      "\t file: cap.py\n",
      "\t file: Decorators.ipynb\n",
      "\t file: Exception Handling.ipynb\n",
      "\t file: Generators.ipynb\n",
      "\t file: IOs.ipynb\n",
      "\t file: myfile.txt\n",
      "\t file: Numbers.ipynb\n",
      "\t file: OOP.ipynb\n",
      "\t file: Python Collections Modules.ipynb\n",
      "\t file: PythonExample.py\n",
      "\t file: PythonNotebookExample.ipynb\n",
      "\t file: Shutil and OS modules.ipynb\n",
      "\t file: simple1.py\n",
      "\t file: tesetfile\n",
      "\t file: test_cap.py\n",
      "\t file: workspace.code-workspace\n",
      "\n",
      "\n",
      "\t Subfolder: Module and Packages\n",
      "\n",
      "\n",
      "the files are: \n",
      "\t file: cap.py\n",
      "\t file: Decorators.ipynb\n",
      "\t file: Exception Handling.ipynb\n",
      "\t file: Generators.ipynb\n",
      "\t file: IOs.ipynb\n",
      "\t file: myfile.txt\n",
      "\t file: Numbers.ipynb\n",
      "\t file: OOP.ipynb\n",
      "\t file: Python Collections Modules.ipynb\n",
      "\t file: PythonExample.py\n",
      "\t file: PythonNotebookExample.ipynb\n",
      "\t file: Shutil and OS modules.ipynb\n",
      "\t file: simple1.py\n",
      "\t file: tesetfile\n",
      "\t file: test_cap.py\n",
      "\t file: workspace.code-workspace\n",
      "\n",
      "\n",
      "\t Subfolder: name and main\n",
      "\n",
      "\n",
      "the files are: \n",
      "\t file: cap.py\n",
      "\t file: Decorators.ipynb\n",
      "\t file: Exception Handling.ipynb\n",
      "\t file: Generators.ipynb\n",
      "\t file: IOs.ipynb\n",
      "\t file: myfile.txt\n",
      "\t file: Numbers.ipynb\n",
      "\t file: OOP.ipynb\n",
      "\t file: Python Collections Modules.ipynb\n",
      "\t file: PythonExample.py\n",
      "\t file: PythonNotebookExample.ipynb\n",
      "\t file: Shutil and OS modules.ipynb\n",
      "\t file: simple1.py\n",
      "\t file: tesetfile\n",
      "\t file: test_cap.py\n",
      "\t file: workspace.code-workspace\n",
      "\n",
      "\n",
      "\t Subfolder: __pycache__\n",
      "\n",
      "\n",
      "the files are: \n",
      "\t file: cap.py\n",
      "\t file: Decorators.ipynb\n",
      "\t file: Exception Handling.ipynb\n",
      "\t file: Generators.ipynb\n",
      "\t file: IOs.ipynb\n",
      "\t file: myfile.txt\n",
      "\t file: Numbers.ipynb\n",
      "\t file: OOP.ipynb\n",
      "\t file: Python Collections Modules.ipynb\n",
      "\t file: PythonExample.py\n",
      "\t file: PythonNotebookExample.ipynb\n",
      "\t file: Shutil and OS modules.ipynb\n",
      "\t file: simple1.py\n",
      "\t file: tesetfile\n",
      "\t file: test_cap.py\n",
      "\t file: workspace.code-workspace\n",
      "\n",
      "\n",
      "Looking at C:\\Users\\Alistair\\Udemy\\PythonBootCamp\\.ipynb_checkpoints\n",
      "\n",
      "\n",
      "the subfolders are: \n",
      "Looking at C:\\Users\\Alistair\\Udemy\\PythonBootCamp\\.vscode\n",
      "\n",
      "\n",
      "the subfolders are: \n",
      "Looking at C:\\Users\\Alistair\\Udemy\\PythonBootCamp\\04-Milestone Project - 1\n",
      "\n",
      "\n",
      "the subfolders are: \n",
      "\t Subfolder: .ipynb_checkpoints\n",
      "\n",
      "\n",
      "the files are: \n",
      "\t file: 00-Warm-Up-Project-Exercises.ipynb\n",
      "\t file: 01-Milestone Project 1 - Assignment.ipynb\n",
      "\t file: 02-Milestone Project 1 - Walkthrough Steps Workbook.ipynb\n",
      "\t file: 03-Milestone Project 1 - Complete Walkthrough Solution.ipynb\n",
      "\t file: Project 1.ipynb\n",
      "\n",
      "\n",
      "Looking at C:\\Users\\Alistair\\Udemy\\PythonBootCamp\\04-Milestone Project - 1\\.ipynb_checkpoints\n",
      "\n",
      "\n",
      "the subfolders are: \n",
      "Looking at C:\\Users\\Alistair\\Udemy\\PythonBootCamp\\08-Milestone Project - 2\n",
      "\n",
      "\n",
      "the subfolders are: \n",
      "\t Subfolder: .ipynb_checkpoints\n",
      "\n",
      "\n",
      "the files are: \n",
      "\t file: 00-Milestone-2-Warmup-Project.ipynb\n",
      "\t file: 01-Milestone Project 2 - Assignment.ipynb\n",
      "\t file: 02-Milestone Project 2 - Walkthrough Steps Workbook.ipynb\n",
      "\t file: 03-Milestone Project 2 - Complete Walkthrough Solution.ipynb\n",
      "\n",
      "\n",
      "Looking at C:\\Users\\Alistair\\Udemy\\PythonBootCamp\\08-Milestone Project - 2\\.ipynb_checkpoints\n",
      "\n",
      "\n",
      "the subfolders are: \n",
      "Looking at C:\\Users\\Alistair\\Udemy\\PythonBootCamp\\Module and Packages\n",
      "\n",
      "\n",
      "the subfolders are: \n",
      "\t Subfolder: MyMainPackage\n",
      "\n",
      "\n",
      "the files are: \n",
      "\t file: mymodule.py\n",
      "\t file: myprogram.py\n",
      "\n",
      "\n",
      "Looking at C:\\Users\\Alistair\\Udemy\\PythonBootCamp\\Module and Packages\\MyMainPackage\n",
      "\n",
      "\n",
      "the subfolders are: \n",
      "\t Subfolder: SubPackage\n",
      "\n",
      "\n",
      "the files are: \n",
      "\t file: some_main_script.py\n",
      "\t file: __init__.py\n",
      "\n",
      "\n",
      "\t Subfolder: __pycache__\n",
      "\n",
      "\n",
      "the files are: \n",
      "\t file: some_main_script.py\n",
      "\t file: __init__.py\n",
      "\n",
      "\n",
      "Looking at C:\\Users\\Alistair\\Udemy\\PythonBootCamp\\Module and Packages\\MyMainPackage\\SubPackage\n",
      "\n",
      "\n",
      "the subfolders are: \n",
      "\t Subfolder: __pycache__\n",
      "\n",
      "\n",
      "the files are: \n",
      "\t file: mysubscript.py\n",
      "\t file: __init__.py\n",
      "\n",
      "\n",
      "Looking at C:\\Users\\Alistair\\Udemy\\PythonBootCamp\\Module and Packages\\MyMainPackage\\SubPackage\\__pycache__\n",
      "\n",
      "\n",
      "the subfolders are: \n",
      "Looking at C:\\Users\\Alistair\\Udemy\\PythonBootCamp\\Module and Packages\\MyMainPackage\\__pycache__\n",
      "\n",
      "\n",
      "the subfolders are: \n",
      "Looking at C:\\Users\\Alistair\\Udemy\\PythonBootCamp\\name and main\n",
      "\n",
      "\n",
      "the subfolders are: \n",
      "\t Subfolder: __pycache__\n",
      "\n",
      "\n",
      "the files are: \n",
      "\t file: one.py\n",
      "\t file: two.py\n",
      "\n",
      "\n",
      "Looking at C:\\Users\\Alistair\\Udemy\\PythonBootCamp\\name and main\\__pycache__\n",
      "\n",
      "\n",
      "the subfolders are: \n",
      "Looking at C:\\Users\\Alistair\\Udemy\\PythonBootCamp\\__pycache__\n",
      "\n",
      "\n",
      "the subfolders are: \n"
     ]
    }
   ],
   "source": [
    "for folder, sub_folders, files in os.walk(os.getcwd()):\n",
    "    print(f\"Looking at {folder}\")\n",
    "    print(\"\\n\")\n",
    "    print(\"the subfolders are: \")\n",
    "    for sub_fold in sub_folders:\n",
    "        print(f\"\\t Subfolder: {sub_fold}\")\n",
    "        print(\"\\n\")\n",
    "        print(\"the files are: \")\n",
    "        for f in files:\n",
    "            print(f\"\\t file: {f}\")\n",
    "        print(\"\\n\")"
   ]
  },
  {
   "cell_type": "code",
   "execution_count": null,
   "metadata": {},
   "outputs": [],
   "source": []
  }
 ],
 "metadata": {
  "kernelspec": {
   "display_name": "Python 3",
   "language": "python",
   "name": "python3"
  },
  "language_info": {
   "codemirror_mode": {
    "name": "ipython",
    "version": 3
   },
   "file_extension": ".py",
   "mimetype": "text/x-python",
   "name": "python",
   "nbconvert_exporter": "python",
   "pygments_lexer": "ipython3",
   "version": "3.8.3"
  }
 },
 "nbformat": 4,
 "nbformat_minor": 4
}
