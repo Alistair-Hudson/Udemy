{
 "cells": [
  {
   "cell_type": "code",
   "execution_count": 1,
   "metadata": {},
   "outputs": [
    {
     "name": "stdout",
     "output_type": "stream",
     "text": [
      "You are not adding correctly\n"
     ]
    }
   ],
   "source": [
    "try:\n",
    "    #attempted code\n",
    "    result = 10 + \"10\"\n",
    "except:\n",
    "    #if error occurs\n",
    "    print(\"You are not adding correctly\")\n",
    "else:\n",
    "    print(result)\n"
   ]
  },
  {
   "cell_type": "code",
   "execution_count": 4,
   "metadata": {},
   "outputs": [
    {
     "name": "stdout",
     "output_type": "stream",
     "text": [
      "you have an OS error\n",
      "always run\n"
     ]
    }
   ],
   "source": [
    "try:\n",
    "    f = open(\"tesetfile\", \"r\")\n",
    "    f.write(\"Test line\")\n",
    "except TypeError:\n",
    "    print(\"There was a type error\")\n",
    "except OSError:\n",
    "    print(\"you have an OS error\")\n",
    "except:\n",
    "    print(\"All other errors\")\n",
    "finally:\n",
    "    print(\"always run\")\n",
    "    "
   ]
  },
  {
   "cell_type": "markdown",
   "metadata": {},
   "source": [
    "Exeption function"
   ]
  },
  {
   "cell_type": "code",
   "execution_count": 6,
   "metadata": {},
   "outputs": [],
   "source": [
    "def ask_for_int():\n",
    "    while True:\n",
    "        try:\n",
    "            result = int(input(\"Please provide a number: \"))\n",
    "        except:\n",
    "            print(\"Not an interger\")\n",
    "            continue\n",
    "        else:\n",
    "            print(result)\n",
    "            break\n",
    "        finally:\n",
    "            print(\"always run\")"
   ]
  },
  {
   "cell_type": "code",
   "execution_count": null,
   "metadata": {},
   "outputs": [],
   "source": []
  }
 ],
 "metadata": {
  "kernelspec": {
   "display_name": "Python 3",
   "language": "python",
   "name": "python3"
  },
  "language_info": {
   "codemirror_mode": {
    "name": "ipython",
    "version": 3
   },
   "file_extension": ".py",
   "mimetype": "text/x-python",
   "name": "python",
   "nbconvert_exporter": "python",
   "pygments_lexer": "ipython3",
   "version": "3.8.3"
  }
 },
 "nbformat": 4,
 "nbformat_minor": 4
}
